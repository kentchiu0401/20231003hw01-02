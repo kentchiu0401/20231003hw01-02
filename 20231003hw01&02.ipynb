{
 "cells": [
  {
   "cell_type": "code",
   "execution_count": 20,
   "id": "a0416f0a",
   "metadata": {
    "scrolled": true
   },
   "outputs": [
    {
     "name": "stdout",
     "output_type": "stream",
     "text": [
      "裝備：\n",
      "27 木\n",
      "15 火\n",
      "4 土\n",
      "2 水\n",
      "10 金\n",
      "裝備總數：58\n"
     ]
    }
   ],
   "source": [
    "inventory = {'木': 27, '火': 15, '土': 4, '水': 2, '金': 10}\n",
    "\n",
    "def displayInventory (inventory):\n",
    "    print(\"裝備：\")\n",
    "    total = 0\n",
    "    for item, quantity in inventory.items():\n",
    "        print(f\"{quantity} {item}\")\n",
    "        total = quantity + total\n",
    "    print(f\"裝備總數：{total}\")\n",
    "    \n",
    "displayInventory(inventory)"
   ]
  },
  {
   "cell_type": "code",
   "execution_count": 21,
   "id": "dc308f35",
   "metadata": {
    "scrolled": true
   },
   "outputs": [
    {
     "name": "stdout",
     "output_type": "stream",
     "text": [
      "裝備：\n",
      "29 木\n",
      "17 火\n",
      "4 土\n",
      "3 水\n",
      "11 金\n",
      "裝備總數：64\n"
     ]
    }
   ],
   "source": [
    "def addToInventory(inventory, addedItems):\n",
    "    for item in addedItems:\n",
    "        inventory[item] = inventory.get(item, 0)+1\n",
    "    return inventory\n",
    "inv = {'木': 27, '火': 15, '土': 4, '水': 2, '金': 10}\n",
    "dragonLoot = ['木','金','火','木','火','水']\n",
    "inv = addToInventory(inv, dragonLoot)\n",
    "displayInventory(inv)"
   ]
  },
  {
   "cell_type": "code",
   "execution_count": null,
   "id": "6c19ab98",
   "metadata": {},
   "outputs": [],
   "source": []
  }
 ],
 "metadata": {
  "kernelspec": {
   "display_name": "Python 3 (ipykernel)",
   "language": "python",
   "name": "python3"
  },
  "language_info": {
   "codemirror_mode": {
    "name": "ipython",
    "version": 3
   },
   "file_extension": ".py",
   "mimetype": "text/x-python",
   "name": "python",
   "nbconvert_exporter": "python",
   "pygments_lexer": "ipython3",
   "version": "3.11.4"
  }
 },
 "nbformat": 4,
 "nbformat_minor": 5
}
